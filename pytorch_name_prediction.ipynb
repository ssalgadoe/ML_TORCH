{
 "cells": [
  {
   "cell_type": "code",
   "execution_count": 132,
   "metadata": {
    "collapsed": true
   },
   "outputs": [],
   "source": [
    "import glob\n",
    "import unicodedata\n",
    "import string\n",
    "import torch\n",
    "import torch.nn as nn\n",
    "import random"
   ]
  },
  {
   "cell_type": "code",
   "execution_count": 133,
   "metadata": {
    "collapsed": false
   },
   "outputs": [],
   "source": [
    "alphabet = string.ascii_lowercase\n",
    "input_size = len(alphabet)\n",
    "filenames=glob.glob('./data/names/*')\n",
    "output_size = len(filenames)\n",
    "hidden_size = 128\n"
   ]
  },
  {
   "cell_type": "code",
   "execution_count": 134,
   "metadata": {
    "collapsed": false
   },
   "outputs": [],
   "source": [
    "categories = []\n",
    "names = {}\n",
    "categoryLines = {}\n",
    "\n",
    "for i,f in enumerate(filenames):\n",
    "    cls = f.split('/')[-1].split('.')[0]\n",
    "    categories.append(cls)\n",
    "    cline = []\n",
    "    with open(f, 'r') as dfile:\n",
    "        for line in dfile:\n",
    "            name = unicodedata.normalize('NFKD', line.rstrip('\\n')).encode('ascii','ignore').decode('utf-8').lower()\n",
    "            names[name] = cls\n",
    "            cline.append(name)\n",
    "    categoryLines[cls] = cline\n"
   ]
  },
  {
   "cell_type": "code",
   "execution_count": 135,
   "metadata": {
    "collapsed": false
   },
   "outputs": [],
   "source": [
    "categoryLines[categories[0]];"
   ]
  },
  {
   "cell_type": "code",
   "execution_count": 136,
   "metadata": {
    "collapsed": false
   },
   "outputs": [],
   "source": [
    "def letter2Index(letter): return alphabet.find(letter)\n",
    "def index2Letter(i): return alphabet[i]\n",
    "def letter2Tensor(letter):\n",
    "    t = torch.zeros(1,input_size)\n",
    "    idx = letter2Index(letter)\n",
    "    t[idx] = 1\n",
    "    return t\n",
    "def cat2Index(cat): return categories.index(cat)\n",
    "def cat2Tensor(cat): \n",
    "    t = torch.zeros(1, dtype=torch.long)\n",
    "    t[0] = cat\n",
    "    return t"
   ]
  },
  {
   "cell_type": "code",
   "execution_count": 137,
   "metadata": {
    "collapsed": false
   },
   "outputs": [
    {
     "name": "stdout",
     "output_type": "stream",
     "text": [
      "torch.Size([1]) tensor([ 5])\n"
     ]
    }
   ],
   "source": [
    "x =cat2Tensor(5)\n",
    "print(x.size(),x)"
   ]
  },
  {
   "cell_type": "code",
   "execution_count": 138,
   "metadata": {
    "collapsed": false
   },
   "outputs": [],
   "source": [
    "def randomChoice(l): return l[random.randint(0, len(l)-1)]    \n",
    "def randomCategory(c): return randomChoice(c)\n",
    "def randomWord(w):\n",
    "    i = random.randint(0, len(w)-1)\n",
    "    word = list(w)[i]\n",
    "    cat =  names[word]\n",
    "    cat_idx = cat2Tensor(cat2Index(cat))\n",
    "    word_idx = word2Tensor(word)\n",
    "    return i, word, word_idx, cat_idx"
   ]
  },
  {
   "cell_type": "code",
   "execution_count": 139,
   "metadata": {
    "collapsed": true
   },
   "outputs": [],
   "source": [
    "def word2Tensor(line):\n",
    "    t = torch.zeros(len(line),1,input_size)\n",
    "    for i,l in enumerate(line):\n",
    "        t[i][0][letter2Index(l)] = 1\n",
    "    return t\n",
    "            "
   ]
  },
  {
   "cell_type": "code",
   "execution_count": null,
   "metadata": {
    "collapsed": true
   },
   "outputs": [],
   "source": []
  },
  {
   "cell_type": "code",
   "execution_count": 140,
   "metadata": {
    "collapsed": false
   },
   "outputs": [],
   "source": [
    "idx,word,w,cat = randomWord(names)\n",
    "# print(idx,word,w,cat)\n"
   ]
  },
  {
   "cell_type": "code",
   "execution_count": 141,
   "metadata": {
    "collapsed": false
   },
   "outputs": [
    {
     "data": {
      "text/plain": [
       "'veitch'"
      ]
     },
     "execution_count": 141,
     "metadata": {},
     "output_type": "execute_result"
    }
   ],
   "source": [
    "list(names)[0]"
   ]
  },
  {
   "cell_type": "code",
   "execution_count": 142,
   "metadata": {
    "collapsed": false
   },
   "outputs": [],
   "source": [
    "class RNN(nn.Module):\n",
    "    def __init__(self, input_size, hidden_size, output_size):\n",
    "        super(RNN, self).__init__()\n",
    "        self.hidden_size = hidden_size\n",
    "        \n",
    "        self.i2h = nn.Linear(input_size+hidden_size, hidden_size)\n",
    "        self.i2o = nn.Linear(input_size+hidden_size, output_size)\n",
    "        self.softMax = nn.LogSoftmax(dim=1)\n",
    "    \n",
    "    def forward(self,input, hidden):\n",
    "        combined = torch.cat((input, hidden),1)\n",
    "        hidden = self.i2h(combined)\n",
    "        output = self.i2o(combined)\n",
    "        output = self.softMax(output)\n",
    "        return output, hidden\n",
    "    \n",
    "    def init_hidden(self):\n",
    "        return torch.zeros(1,self.hidden_size)"
   ]
  },
  {
   "cell_type": "code",
   "execution_count": null,
   "metadata": {
    "collapsed": true
   },
   "outputs": [],
   "source": []
  },
  {
   "cell_type": "code",
   "execution_count": 143,
   "metadata": {
    "collapsed": true
   },
   "outputs": [],
   "source": [
    "def categoryFromOutput(output):\n",
    "    val, idx = output.topk(1)\n",
    "    return val, idx"
   ]
  },
  {
   "cell_type": "code",
   "execution_count": 144,
   "metadata": {
    "collapsed": false
   },
   "outputs": [],
   "source": [
    "\n",
    "rnn  = RNN(input_size, hidden_size, output_size)"
   ]
  },
  {
   "cell_type": "code",
   "execution_count": null,
   "metadata": {
    "collapsed": true
   },
   "outputs": [],
   "source": []
  },
  {
   "cell_type": "code",
   "execution_count": 145,
   "metadata": {
    "collapsed": false
   },
   "outputs": [
    {
     "name": "stdout",
     "output_type": "stream",
     "text": [
      "tensor([[-2.7975, -3.5700, -3.0174, -2.7378, -2.5893, -3.1056, -3.4039,\n",
      "         -2.8023, -3.1005, -2.8919, -2.9581, -2.6795, -3.1690, -3.0042,\n",
      "         -2.7648, -2.3966, -3.0337, -2.6785]])\n"
     ]
    }
   ],
   "source": [
    "in_put = letter2Tensor('a')\n",
    "hidden = torch.zeros(1,hidden_size)\n",
    "out_put, hidden = rnn(in_put,hidden)\n",
    "print(out_put)"
   ]
  },
  {
   "cell_type": "code",
   "execution_count": 146,
   "metadata": {
    "collapsed": false
   },
   "outputs": [
    {
     "name": "stdout",
     "output_type": "stream",
     "text": [
      "tensor([[-2.6764, -3.4456, -2.9940, -2.7209, -2.5420, -3.2052, -3.5449,\n",
      "         -2.9766, -2.8770, -2.8413, -3.1155, -2.9389, -2.9495, -2.8711,\n",
      "         -2.7499, -2.3439, -3.0307, -2.8968]])\n"
     ]
    }
   ],
   "source": [
    "out_put, hidden = rnn(in_put,hidden)\n",
    "print(out_put)"
   ]
  },
  {
   "cell_type": "code",
   "execution_count": null,
   "metadata": {
    "collapsed": false
   },
   "outputs": [],
   "source": []
  },
  {
   "cell_type": "code",
   "execution_count": 147,
   "metadata": {
    "collapsed": false
   },
   "outputs": [],
   "source": [
    "# idx,w,word,cat = randomWord(names)\n",
    "# print(cat)\n",
    "# cat_idx = cat2Index(cat)\n",
    "# print(cat_idx)\n",
    "# cat_idx = cat2Tensor(cat_idx)\n",
    "# print(cat_idx)\n",
    "# word_idx = word2Tensor(w)"
   ]
  },
  {
   "cell_type": "code",
   "execution_count": 148,
   "metadata": {
    "collapsed": false
   },
   "outputs": [],
   "source": [
    "criterion = nn.NLLLoss()\n",
    "# criterion = nn.CrossEntropyLoss()"
   ]
  },
  {
   "cell_type": "code",
   "execution_count": 149,
   "metadata": {
    "collapsed": false
   },
   "outputs": [
    {
     "name": "stdout",
     "output_type": "stream",
     "text": [
      "2.678760290145874\n"
     ]
    }
   ],
   "source": [
    "lr = 0.0001\n",
    "optimizer = torch.optim.SGD(rnn.parameters(), lr=lr)\n",
    "for i in range(1000):\n",
    "    idx,w,word,y = randomWord(names)\n",
    "\n",
    "    hidden = rnn.init_hidden()\n",
    "    rnn.zero_grad()\n",
    "    for l in word:\n",
    "        output, hidden = rnn(l,hidden)\n",
    "#         print(output)\n",
    "    #print(output.size(), y, y.size())    \n",
    "    loss = criterion(output,y)\n",
    "    loss.backward()\n",
    "#     for p in rnn.parameters():\n",
    "#         p.data.add_(-lr, p.grad.data)\n",
    "\n",
    "    optimizer.step()\n",
    "\n",
    "#     print(loss.item())\n",
    "print(loss.item())"
   ]
  },
  {
   "cell_type": "code",
   "execution_count": 152,
   "metadata": {
    "collapsed": false
   },
   "outputs": [],
   "source": [
    "def evaluate(word):\n",
    "    hidden = rnn.init_hidden()\n",
    "    for l in word:\n",
    "        output, hidden = rnn(l,hidden)\n",
    "#     print(output)        \n",
    "    return output"
   ]
  },
  {
   "cell_type": "code",
   "execution_count": 154,
   "metadata": {
    "collapsed": false
   },
   "outputs": [
    {
     "name": "stdout",
     "output_type": "stream",
     "text": [
      "fujimaki Japanese Arabic\n",
      "toichkin Russian Russian\n",
      "kelso English English\n",
      "munehin Russian Russian\n",
      "bazhenov Russian Russian\n",
      "hovanec Czech English\n",
      "okeefe English Spanish\n",
      "parratt English Vietnamese\n",
      "busto Spanish Spanish\n",
      "vilchek Russian English\n",
      "ennos English Dutch\n",
      "bellandini Italian Spanish\n",
      "fellmen English Russian\n",
      "de campo Italian English\n",
      "broadley English Dutch\n",
      "dubhshlaine Irish English\n",
      "lupichev Russian Russian\n",
      "granovsky Russian English\n",
      "joltovsky Russian English\n",
      "schlender German English\n",
      "coulson English Russian\n",
      "paisley English Dutch\n",
      "kaufer German English\n",
      "rallis Greek Dutch\n",
      "dzhaldzhireev Russian Russian\n",
      "winter German Arabic\n",
      "tchekomasov Russian Russian\n",
      "vasindin Russian Russian\n",
      "alldritt English Russian\n",
      "menendez Spanish Russian\n",
      "shamsutdinov Russian Russian\n",
      "soto Spanish Spanish\n",
      "rosso English English\n",
      "taverna Italian Russian\n",
      "stevenson English Russian\n",
      "alberici Italian Russian\n",
      "awgustoff Russian Dutch\n",
      "abano Spanish Dutch\n",
      "haenraets Dutch Dutch\n",
      "agli Italian Russian\n",
      "tinker English Dutch\n",
      "petru Czech Russian\n",
      "lysy Russian English\n",
      "glusov Russian Russian\n",
      "levitov Russian Russian\n",
      "iijima Japanese Russian\n",
      "chaput French Vietnamese\n",
      "eng Chinese English\n",
      "whittley English Dutch\n",
      "rokhmanov Russian Russian\n",
      "zhekov Russian Russian\n",
      "nastavin Russian Russian\n",
      "lebedenko Russian English\n",
      "makushev Russian Russian\n",
      "lyjenkov Russian Russian\n",
      "westerberg German Russian\n",
      "remih Russian Dutch\n",
      "katsenellenbogen Russian Russian\n",
      "germano Italian Dutch\n",
      "jessop English Dutch\n",
      "forbes English Dutch\n",
      "achteren Dutch Russian\n",
      "dovjenko Russian English\n",
      "durasov Russian Russian\n",
      "awdiewsky Russian English\n",
      "zogalev Russian Russian\n",
      "mindovsky Russian English\n",
      "avramov Russian Russian\n",
      "renard Russian Dutch\n",
      "au-yong Chinese English\n",
      "reijnders Dutch Dutch\n",
      "holoshin Russian Russian\n",
      "vakichev Russian Russian\n",
      "strickland English Dutch\n",
      "aubrey English Dutch\n",
      "liholat Russian Dutch\n",
      "matzkevich Russian Dutch\n",
      "vingilevsky Russian English\n",
      "blackmore English Spanish\n",
      "worth English English\n",
      "mogila Russian Russian\n",
      "timkachev Russian Russian\n",
      "hilchevsky Russian English\n",
      "westerberg German Russian\n",
      "buiren Dutch Russian\n",
      "duben Russian Russian\n",
      "zhidomirov Russian Russian\n",
      "haas German Dutch\n",
      "cathan Irish Russian\n",
      "djatdoev Russian Russian\n",
      "zini Italian Spanish\n",
      "chung English Russian\n",
      "mikhailutsa Russian Russian\n",
      "balabai Russian Dutch\n",
      "perrot French Dutch\n",
      "ruzakov Russian Russian\n",
      "juhtanov Russian Russian\n",
      "jepson English Russian\n",
      "gladun Russian Russian\n",
      "entus Russian Dutch\n",
      "accuracy 0.37\n"
     ]
    }
   ],
   "source": [
    "total = 100\n",
    "accuracy =0\n",
    "for x in range(total):\n",
    "    idx,name, word,y = randomWord(names)\n",
    "    with torch.no_grad():\n",
    "        out = evaluate(word)\n",
    "        val,i = categoryFromOutput(out)\n",
    "#         print(idx,name,categories[y],categories[i],y,val,out)\n",
    "        print(name, categories[y], categories[i])\n",
    "        if categories[y] == categories[i]:\n",
    "            accuracy+=1\n",
    "\n",
    "print(\"accuracy\", accuracy/total)            "
   ]
  },
  {
   "cell_type": "code",
   "execution_count": 68,
   "metadata": {
    "collapsed": false
   },
   "outputs": [
    {
     "name": "stdout",
     "output_type": "stream",
     "text": [
      "tensor([[-4.2089, -5.9110, -4.5130, -5.8196, -6.2518, -3.1251, -6.2346,\n",
      "         -5.2451, -0.3598, -4.5567, -6.2746, -4.7919, -5.3836, -5.1650,\n",
      "         -4.0600, -1.9801, -3.7620, -4.8171]]) tensor([[-0.3598]]) tensor([[ 8]])\n"
     ]
    }
   ],
   "source": [
    "a,b = categoryFromOutput(out)\n",
    "print(out,a,b)"
   ]
  },
  {
   "cell_type": "code",
   "execution_count": 515,
   "metadata": {
    "collapsed": false
   },
   "outputs": [
    {
     "data": {
      "text/plain": [
       "tensor([ 15])"
      ]
     },
     "execution_count": 515,
     "metadata": {},
     "output_type": "execute_result"
    }
   ],
   "source": [
    "y"
   ]
  },
  {
   "cell_type": "code",
   "execution_count": null,
   "metadata": {
    "collapsed": true
   },
   "outputs": [],
   "source": []
  }
 ],
 "metadata": {
  "anaconda-cloud": {},
  "kernelspec": {
   "display_name": "Python [Root]",
   "language": "python",
   "name": "Python [Root]"
  },
  "language_info": {
   "codemirror_mode": {
    "name": "ipython",
    "version": 3
   },
   "file_extension": ".py",
   "mimetype": "text/x-python",
   "name": "python",
   "nbconvert_exporter": "python",
   "pygments_lexer": "ipython3",
   "version": "3.5.1"
  }
 },
 "nbformat": 4,
 "nbformat_minor": 0
}
