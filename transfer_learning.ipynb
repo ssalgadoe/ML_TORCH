{
 "cells": [
  {
   "cell_type": "code",
   "execution_count": 2,
   "metadata": {
    "collapsed": true
   },
   "outputs": [],
   "source": [
    "import torch\n",
    "import torch.nn as nn\n",
    "import torch.optim as optim\n",
    "from torch.optim import lr_scheduler\n",
    "import numpy as np\n",
    "import torchvision\n",
    "from torchvision import datasets, models,transforms\n",
    "import matplotlib.pyplot as plt\n",
    "import time\n",
    "import os\n",
    "import copy"
   ]
  },
  {
   "cell_type": "code",
   "execution_count": 3,
   "metadata": {
    "collapsed": true
   },
   "outputs": [],
   "source": [
    "data_transforms = {\n",
    "    'train': transforms.Compose([\n",
    "        transforms.RandomResizedCrop(224),\n",
    "        transforms.RandomHorizontalFlip(),\n",
    "        transforms.ToTensor(),\n",
    "        transforms.Normalize([0.485, 0.456, 0.406], [0.229, 0.224, 0.225])\n",
    "    ]),\n",
    "    'val': transforms.Compose([\n",
    "        transforms.Resize(256),\n",
    "        transforms.CenterCrop(224),\n",
    "        transforms.ToTensor(),\n",
    "        transforms.Normalize([0.485, 0.456, 0.406], [0.229, 0.224, 0.225])\n",
    "    ]),\n",
    "}"
   ]
  },
  {
   "cell_type": "code",
   "execution_count": 9,
   "metadata": {
    "collapsed": false
   },
   "outputs": [],
   "source": [
    "data_dir = 'hymenoptera_data'\n",
    "image_datasets = {x: datasets.ImageFolder(os.path.join(data_dir, x),data_transforms[x]) for x in ['train', 'val']}\n",
    "dataloaders = {x: torch.utils.data.DataLoader(image_datasets[x], batch_size=4,shuffle=True, num_workers=4) for x in ['train', 'val']}\n",
    "dataset_sizes = {x: len(image_datasets[x]) for x in ['train', 'val']}\n",
    "class_names = image_datasets['train'].classes\n",
    "\n",
    "device = torch.device(\"cuda:0\" if torch.cuda.is_available() else \"cpu\")"
   ]
  },
  {
   "cell_type": "code",
   "execution_count": 28,
   "metadata": {
    "collapsed": false
   },
   "outputs": [
    {
     "name": "stdout",
     "output_type": "stream",
     "text": [
      "['ants', 'bees']\n"
     ]
    }
   ],
   "source": [
    "print(image_datasets['val'].classes)\n"
   ]
  },
  {
   "cell_type": "code",
   "execution_count": 29,
   "metadata": {
    "collapsed": true
   },
   "outputs": [],
   "source": [
    "def imshow(inp, title=None):\n",
    "    \"\"\"Imshow for Tensor.\"\"\"\n",
    "    inp = inp.numpy().transpose((1, 2, 0))\n",
    "    mean = np.array([0.485, 0.456, 0.406])\n",
    "    std = np.array([0.229, 0.224, 0.225])\n",
    "    inp = std * inp + mean\n",
    "    inp = np.clip(inp, 0, 1)\n",
    "    plt.imshow(inp)\n",
    "    if title is not None:\n",
    "        plt.title(title)\n",
    "    plt.pause(0.001)  # pause a bit so that plots are updated\n"
   ]
  },
  {
   "cell_type": "code",
   "execution_count": 30,
   "metadata": {
    "collapsed": false
   },
   "outputs": [
    {
     "name": "stderr",
     "output_type": "stream",
     "text": [
      "/home/user/anaconda3/lib/python3.5/site-packages/matplotlib/backend_bases.py:2453: MatplotlibDeprecationWarning: Using default event loop until function specific to this GUI is implemented\n",
      "  warnings.warn(str, mplDeprecation)\n"
     ]
    }
   ],
   "source": [
    "inputs, classes = next(iter(dataloaders['train']))\n",
    "\n",
    "# Make a grid from batch\n",
    "out = torchvision.utils.make_grid(inputs)\n",
    "\n",
    "imshow(out, title=[class_names[x] for x in classes])"
   ]
  },
  {
   "cell_type": "code",
   "execution_count": 31,
   "metadata": {
    "collapsed": true
   },
   "outputs": [],
   "source": [
    "def train_model(model, criterion, optimizer, scheduler, num_epochs=25):\n",
    "    since = time.time()\n",
    "\n",
    "    best_model_wts = copy.deepcopy(model.state_dict())\n",
    "    best_acc = 0.0\n",
    "\n",
    "    for epoch in range(num_epochs):\n",
    "        print('Epoch {}/{}'.format(epoch, num_epochs - 1))\n",
    "        print('-' * 10)\n",
    "\n",
    "        # Each epoch has a training and validation phase\n",
    "        for phase in ['train', 'val']:\n",
    "            if phase == 'train':\n",
    "                scheduler.step()\n",
    "                model.train()  # Set model to training mode\n",
    "            else:\n",
    "                model.eval()   # Set model to evaluate mode\n",
    "\n",
    "            running_loss = 0.0\n",
    "            running_corrects = 0\n",
    "\n",
    "            # Iterate over data.\n",
    "            for inputs, labels in dataloaders[phase]:\n",
    "                inputs = inputs.to(device)\n",
    "                labels = labels.to(device)\n",
    "\n",
    "                # zero the parameter gradients\n",
    "                optimizer.zero_grad()\n",
    "\n",
    "                # forward\n",
    "                # track history if only in train\n",
    "                with torch.set_grad_enabled(phase == 'train'):\n",
    "                    outputs = model(inputs)\n",
    "                    _, preds = torch.max(outputs, 1)\n",
    "                    loss = criterion(outputs, labels)\n",
    "\n",
    "                    # backward + optimize only if in training phase\n",
    "                    if phase == 'train':\n",
    "                        loss.backward()\n",
    "                        optimizer.step()\n",
    "\n",
    "                # statistics\n",
    "                running_loss += loss.item() * inputs.size(0)\n",
    "                running_corrects += torch.sum(preds == labels.data)\n",
    "\n",
    "            epoch_loss = running_loss / dataset_sizes[phase]\n",
    "            epoch_acc = running_corrects.double() / dataset_sizes[phase]\n",
    "\n",
    "            print('{} Loss: {:.4f} Acc: {:.4f}'.format(\n",
    "                phase, epoch_loss, epoch_acc))\n",
    "\n",
    "            # deep copy the model\n",
    "            if phase == 'val' and epoch_acc > best_acc:\n",
    "                best_acc = epoch_acc\n",
    "                best_model_wts = copy.deepcopy(model.state_dict())\n",
    "\n",
    "        print()\n",
    "\n",
    "    time_elapsed = time.time() - since\n",
    "    print('Training complete in {:.0f}m {:.0f}s'.format(\n",
    "        time_elapsed // 60, time_elapsed % 60))\n",
    "    print('Best val Acc: {:4f}'.format(best_acc))\n",
    "\n",
    "    # load best model weights\n",
    "    model.load_state_dict(best_model_wts)\n",
    "    return model"
   ]
  },
  {
   "cell_type": "code",
   "execution_count": 32,
   "metadata": {
    "collapsed": true
   },
   "outputs": [],
   "source": [
    "def visualize_model(model, num_images=6):\n",
    "    was_training = model.training\n",
    "    model.eval()\n",
    "    images_so_far = 0\n",
    "    fig = plt.figure()\n",
    "\n",
    "    with torch.no_grad():\n",
    "        for i, (inputs, labels) in enumerate(dataloaders['val']):\n",
    "            inputs = inputs.to(device)\n",
    "            labels = labels.to(device)\n",
    "\n",
    "            outputs = model(inputs)\n",
    "            _, preds = torch.max(outputs, 1)\n",
    "\n",
    "            for j in range(inputs.size()[0]):\n",
    "                images_so_far += 1\n",
    "                ax = plt.subplot(num_images//2, 2, images_so_far)\n",
    "                ax.axis('off')\n",
    "                ax.set_title('predicted: {}'.format(class_names[preds[j]]))\n",
    "                imshow(inputs.cpu().data[j])\n",
    "\n",
    "                if images_so_far == num_images:\n",
    "                    model.train(mode=was_training)\n",
    "                    return\n",
    "        model.train(mode=was_training)"
   ]
  },
  {
   "cell_type": "code",
   "execution_count": 33,
   "metadata": {
    "collapsed": false
   },
   "outputs": [
    {
     "name": "stderr",
     "output_type": "stream",
     "text": [
      "Downloading: \"https://download.pytorch.org/models/resnet18-5c106cde.pth\" to /home/user/.torch/models/resnet18-5c106cde.pth\n",
      "100.0%\n"
     ]
    }
   ],
   "source": [
    "model_ft = models.resnet18(pretrained=True)\n",
    "num_ftrs = model_ft.fc.in_features\n",
    "model_ft.fc = nn.Linear(num_ftrs, 2)\n",
    "\n",
    "model_ft = model_ft.to(device)\n",
    "\n",
    "criterion = nn.CrossEntropyLoss()\n",
    "\n",
    "# Observe that all parameters are being optimized\n",
    "optimizer_ft = optim.SGD(model_ft.parameters(), lr=0.001, momentum=0.9)\n",
    "\n",
    "# Decay LR by a factor of 0.1 every 7 epochs\n",
    "exp_lr_scheduler = lr_scheduler.StepLR(optimizer_ft, step_size=7, gamma=0.1)"
   ]
  },
  {
   "cell_type": "code",
   "execution_count": 34,
   "metadata": {
    "collapsed": false
   },
   "outputs": [
    {
     "name": "stdout",
     "output_type": "stream",
     "text": [
      "Epoch 0/24\n",
      "----------\n",
      "train Loss: 0.6319 Acc: 0.6516\n",
      "val Loss: 0.2130 Acc: 0.9150\n",
      "\n",
      "Epoch 1/24\n",
      "----------\n",
      "train Loss: 0.4886 Acc: 0.8156\n",
      "val Loss: 0.3651 Acc: 0.8301\n",
      "\n",
      "Epoch 2/24\n",
      "----------\n",
      "train Loss: 0.5161 Acc: 0.7787\n",
      "val Loss: 0.2772 Acc: 0.8889\n",
      "\n",
      "Epoch 3/24\n",
      "----------\n",
      "train Loss: 0.5929 Acc: 0.7664\n",
      "val Loss: 0.2714 Acc: 0.8954\n",
      "\n",
      "Epoch 4/24\n",
      "----------\n",
      "train Loss: 0.6582 Acc: 0.7541\n",
      "val Loss: 0.1992 Acc: 0.9346\n",
      "\n",
      "Epoch 5/24\n",
      "----------\n",
      "train Loss: 0.5636 Acc: 0.7951\n",
      "val Loss: 0.3197 Acc: 0.8889\n",
      "\n",
      "Epoch 6/24\n",
      "----------\n",
      "train Loss: 0.4946 Acc: 0.8074\n",
      "val Loss: 0.2287 Acc: 0.8954\n",
      "\n",
      "Epoch 7/24\n",
      "----------\n",
      "train Loss: 0.3584 Acc: 0.8689\n",
      "val Loss: 0.1921 Acc: 0.9216\n",
      "\n",
      "Epoch 8/24\n",
      "----------\n",
      "train Loss: 0.3282 Acc: 0.8484\n",
      "val Loss: 0.2282 Acc: 0.9085\n",
      "\n",
      "Epoch 9/24\n",
      "----------\n",
      "train Loss: 0.2986 Acc: 0.8566\n",
      "val Loss: 0.1641 Acc: 0.9412\n",
      "\n",
      "Epoch 10/24\n",
      "----------\n",
      "train Loss: 0.3190 Acc: 0.8689\n",
      "val Loss: 0.1689 Acc: 0.9477\n",
      "\n",
      "Epoch 11/24\n",
      "----------\n",
      "train Loss: 0.3072 Acc: 0.8361\n",
      "val Loss: 0.1851 Acc: 0.9346\n",
      "\n",
      "Epoch 12/24\n",
      "----------\n",
      "train Loss: 0.3188 Acc: 0.8607\n",
      "val Loss: 0.1692 Acc: 0.9281\n",
      "\n",
      "Epoch 13/24\n",
      "----------\n",
      "train Loss: 0.3067 Acc: 0.8525\n",
      "val Loss: 0.1686 Acc: 0.9281\n",
      "\n",
      "Epoch 14/24\n",
      "----------\n",
      "train Loss: 0.3149 Acc: 0.8607\n",
      "val Loss: 0.1642 Acc: 0.9477\n",
      "\n",
      "Epoch 15/24\n",
      "----------\n",
      "train Loss: 0.2306 Acc: 0.9057\n",
      "val Loss: 0.1880 Acc: 0.9346\n",
      "\n",
      "Epoch 16/24\n",
      "----------\n",
      "train Loss: 0.2720 Acc: 0.8607\n",
      "val Loss: 0.1630 Acc: 0.9346\n",
      "\n",
      "Epoch 17/24\n",
      "----------\n",
      "train Loss: 0.2141 Acc: 0.9098\n",
      "val Loss: 0.1711 Acc: 0.9412\n",
      "\n",
      "Epoch 18/24\n",
      "----------\n",
      "train Loss: 0.2930 Acc: 0.8689\n",
      "val Loss: 0.1847 Acc: 0.9346\n",
      "\n",
      "Epoch 19/24\n",
      "----------\n",
      "train Loss: 0.2413 Acc: 0.9057\n",
      "val Loss: 0.1664 Acc: 0.9412\n",
      "\n",
      "Epoch 20/24\n",
      "----------\n",
      "train Loss: 0.2467 Acc: 0.8852\n",
      "val Loss: 0.2018 Acc: 0.9216\n",
      "\n",
      "Epoch 21/24\n",
      "----------\n",
      "train Loss: 0.2903 Acc: 0.8607\n",
      "val Loss: 0.1676 Acc: 0.9281\n",
      "\n",
      "Epoch 22/24\n",
      "----------\n",
      "train Loss: 0.2611 Acc: 0.8934\n",
      "val Loss: 0.1688 Acc: 0.9346\n",
      "\n",
      "Epoch 23/24\n",
      "----------\n",
      "train Loss: 0.2205 Acc: 0.8852\n",
      "val Loss: 0.1668 Acc: 0.9477\n",
      "\n",
      "Epoch 24/24\n",
      "----------\n",
      "train Loss: 0.2984 Acc: 0.8730\n",
      "val Loss: 0.1745 Acc: 0.9412\n",
      "\n",
      "Training complete in 40m 48s\n",
      "Best val Acc: 0.947712\n"
     ]
    }
   ],
   "source": [
    "model_ft = train_model(model_ft, criterion, optimizer_ft, exp_lr_scheduler,\n",
    "                       num_epochs=25)"
   ]
  },
  {
   "cell_type": "code",
   "execution_count": null,
   "metadata": {
    "collapsed": true
   },
   "outputs": [],
   "source": []
  }
 ],
 "metadata": {
  "kernelspec": {
   "display_name": "Python [Root]",
   "language": "python",
   "name": "Python [Root]"
  },
  "language_info": {
   "codemirror_mode": {
    "name": "ipython",
    "version": 3
   },
   "file_extension": ".py",
   "mimetype": "text/x-python",
   "name": "python",
   "nbconvert_exporter": "python",
   "pygments_lexer": "ipython3",
   "version": "3.5.1"
  }
 },
 "nbformat": 4,
 "nbformat_minor": 0
}
